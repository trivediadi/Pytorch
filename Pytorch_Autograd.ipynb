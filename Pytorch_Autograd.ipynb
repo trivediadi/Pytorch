{
  "nbformat": 4,
  "nbformat_minor": 0,
  "metadata": {
    "colab": {
      "provenance": []
    },
    "kernelspec": {
      "name": "python3",
      "display_name": "Python 3"
    },
    "language_info": {
      "name": "python"
    }
  },
  "cells": [
    {
      "cell_type": "code",
      "execution_count": 16,
      "metadata": {
        "id": "KT_rVXjpOujl"
      },
      "outputs": [],
      "source": [
        "import torch\n"
      ]
    },
    {
      "cell_type": "markdown",
      "source": [
        "# simple example of autograd\n"
      ],
      "metadata": {
        "id": "rTgfdl_2PPMV"
      }
    },
    {
      "cell_type": "code",
      "source": [
        "x=torch.tensor(3.0,requires_grad=True)"
      ],
      "metadata": {
        "id": "VbPep4yFOz-5"
      },
      "execution_count": 2,
      "outputs": []
    },
    {
      "cell_type": "code",
      "source": [
        "y=x**2"
      ],
      "metadata": {
        "id": "wqgy_ONQPEJB"
      },
      "execution_count": 4,
      "outputs": []
    },
    {
      "cell_type": "code",
      "source": [
        "y"
      ],
      "metadata": {
        "colab": {
          "base_uri": "https://localhost:8080/"
        },
        "id": "2N_OX25pPEiv",
        "outputId": "52c2a7e0-e908-46db-a36b-5dd6ff3e73e9"
      },
      "execution_count": 6,
      "outputs": [
        {
          "output_type": "execute_result",
          "data": {
            "text/plain": [
              "tensor(9., grad_fn=<PowBackward0>)"
            ]
          },
          "metadata": {},
          "execution_count": 6
        }
      ]
    },
    {
      "cell_type": "code",
      "source": [
        "y.backward()"
      ],
      "metadata": {
        "id": "PCHOc6tdPL8W"
      },
      "execution_count": 7,
      "outputs": []
    },
    {
      "cell_type": "code",
      "source": [
        " # for getting gradient value\n",
        " x.grad"
      ],
      "metadata": {
        "colab": {
          "base_uri": "https://localhost:8080/"
        },
        "id": "XbILoCloProK",
        "outputId": "0e0bb959-a510-432d-b334-8b7d8eb898fb"
      },
      "execution_count": 10,
      "outputs": [
        {
          "output_type": "execute_result",
          "data": {
            "text/plain": [
              "tensor(6.)"
            ]
          },
          "metadata": {},
          "execution_count": 10
        }
      ]
    },
    {
      "cell_type": "markdown",
      "source": [
        "# Autograd on Chain Rule"
      ],
      "metadata": {
        "id": "XY7wkiGOQQS-"
      }
    },
    {
      "cell_type": "code",
      "source": [
        "x=torch.tensor(3.0,requires_grad=True)"
      ],
      "metadata": {
        "id": "Bz7_mPsuPwf2"
      },
      "execution_count": 14,
      "outputs": []
    },
    {
      "cell_type": "code",
      "source": [
        "y=x**2"
      ],
      "metadata": {
        "id": "Wqp1o6MlQCuw"
      },
      "execution_count": 15,
      "outputs": []
    },
    {
      "cell_type": "code",
      "source": [
        "z=torch.sin(y)"
      ],
      "metadata": {
        "id": "6jwKE2zqQcVP"
      },
      "execution_count": 17,
      "outputs": []
    },
    {
      "cell_type": "code",
      "source": [
        "x"
      ],
      "metadata": {
        "colab": {
          "base_uri": "https://localhost:8080/"
        },
        "id": "bCQIwua6QpxE",
        "outputId": "0832e473-d1d6-40f9-bf07-e33dcf59ea9d"
      },
      "execution_count": 18,
      "outputs": [
        {
          "output_type": "execute_result",
          "data": {
            "text/plain": [
              "tensor(3., requires_grad=True)"
            ]
          },
          "metadata": {},
          "execution_count": 18
        }
      ]
    },
    {
      "cell_type": "code",
      "source": [
        "y"
      ],
      "metadata": {
        "colab": {
          "base_uri": "https://localhost:8080/"
        },
        "id": "MF861aYsQxmw",
        "outputId": "c0f2dd66-09ad-4ad4-e51c-dc2968aa9e9a"
      },
      "execution_count": 19,
      "outputs": [
        {
          "output_type": "execute_result",
          "data": {
            "text/plain": [
              "tensor(9., grad_fn=<PowBackward0>)"
            ]
          },
          "metadata": {},
          "execution_count": 19
        }
      ]
    },
    {
      "cell_type": "code",
      "source": [
        "z"
      ],
      "metadata": {
        "colab": {
          "base_uri": "https://localhost:8080/"
        },
        "id": "pqQsUaojQx9z",
        "outputId": "550f490c-f9bf-4028-83a3-ff756d3b1af4"
      },
      "execution_count": 20,
      "outputs": [
        {
          "output_type": "execute_result",
          "data": {
            "text/plain": [
              "tensor(0.4121, grad_fn=<SinBackward0>)"
            ]
          },
          "metadata": {},
          "execution_count": 20
        }
      ]
    },
    {
      "cell_type": "code",
      "source": [
        "z.backward()"
      ],
      "metadata": {
        "id": "f_x7972tQyUF"
      },
      "execution_count": 21,
      "outputs": []
    },
    {
      "cell_type": "code",
      "source": [
        "x.grad"
      ],
      "metadata": {
        "colab": {
          "base_uri": "https://localhost:8080/"
        },
        "id": "ZRqe4FcwRBi8",
        "outputId": "e3f319b7-5ca0-4fd6-ba51-b65cdbec7662"
      },
      "execution_count": 23,
      "outputs": [
        {
          "output_type": "execute_result",
          "data": {
            "text/plain": [
              "tensor(-5.4668)"
            ]
          },
          "metadata": {},
          "execution_count": 23
        }
      ]
    },
    {
      "cell_type": "markdown",
      "source": [
        "#Autograd for Neural network"
      ],
      "metadata": {
        "id": "Kb6xPHPxRek-"
      }
    },
    {
      "cell_type": "code",
      "source": [
        "# more likly for perceptron\n",
        "x=torch.tensor(6.7)\n",
        "y=torch.tensor(0.0) # label\n",
        "w=torch.tensor(1.0) #weights\n",
        "b=torch.tensor(0.0) #bias"
      ],
      "metadata": {
        "id": "HGCxLV3xRDVD"
      },
      "execution_count": 44,
      "outputs": []
    },
    {
      "cell_type": "code",
      "source": [
        "#Binary cross entropy\n",
        "def binary_cross_entropy(y_pred,y_true):\n",
        "  epsilion=1e-8\n",
        "  y_pred=torch.clamp(y_pred,epsilion,1-epsilion)\n",
        "  return -(y_true*torch.log(y_pred)+(1-y_true)*torch.log(1-y_pred))"
      ],
      "metadata": {
        "id": "3tqZ_iP4V9I7"
      },
      "execution_count": 45,
      "outputs": []
    },
    {
      "cell_type": "code",
      "source": [
        "#Forward pass\n",
        "z=x * w + b\n",
        "y_pred=torch.sigmoid(z) # Activation function\n",
        "\n",
        "loss=binary_cross_entropy(y_pred,y)"
      ],
      "metadata": {
        "id": "qr988-leXUud"
      },
      "execution_count": 46,
      "outputs": []
    },
    {
      "cell_type": "code",
      "source": [
        "loss\n"
      ],
      "metadata": {
        "colab": {
          "base_uri": "https://localhost:8080/"
        },
        "id": "fX541QYyX0na",
        "outputId": "58dd1374-82eb-4185-c88b-33bbd811f008"
      },
      "execution_count": 47,
      "outputs": [
        {
          "output_type": "execute_result",
          "data": {
            "text/plain": [
              "tensor(6.7012)"
            ]
          },
          "metadata": {},
          "execution_count": 47
        }
      ]
    },
    {
      "cell_type": "code",
      "source": [
        "# Manual derivation\n",
        "# dL/d(y_pred): Loss with respect to the prediction\n",
        "dloss_dy_pred=(y_pred -y)/(y_pred*(1-y_pred))\n",
        "# dy_pred_dz: prediction with respect to the z\n",
        "dy_pred_dz=y_pred*(1-y_pred)\n",
        "# dz_dx : output with respect to the input\n",
        "dz_dw=x\n",
        "dz_db=1\n",
        "\n",
        "dL_dw=dloss_dy_pred*dy_pred_dz*dz_dw\n",
        "dL_db=dloss_dy_pred*dy_pred_dz*dz_db\n"
      ],
      "metadata": {
        "id": "3T3UwnUFYGWv"
      },
      "execution_count": 48,
      "outputs": []
    },
    {
      "cell_type": "code",
      "source": [
        "#Manual derivation of weight and bias\n",
        "print(dL_dw)\n",
        "print(dL_db)"
      ],
      "metadata": {
        "colab": {
          "base_uri": "https://localhost:8080/"
        },
        "id": "K3B4cbLBaz6l",
        "outputId": "da367f9e-a576-41d8-ba49-73b4c7dc627a"
      },
      "execution_count": 49,
      "outputs": [
        {
          "output_type": "stream",
          "name": "stdout",
          "text": [
            "tensor(6.6918)\n",
            "tensor(0.9988)\n"
          ]
        }
      ]
    },
    {
      "cell_type": "markdown",
      "source": [
        "Using Autograd\n"
      ],
      "metadata": {
        "id": "Htv-kcGmbiRg"
      }
    },
    {
      "cell_type": "code",
      "source": [
        "x=torch.tensor(6.7)\n",
        "y=torch.tensor(0.0)\n",
        "w=torch.tensor(1.0,requires_grad=True)\n",
        "b=torch.tensor(0.0,requires_grad=True)"
      ],
      "metadata": {
        "id": "A5swmEsebErC"
      },
      "execution_count": 50,
      "outputs": []
    },
    {
      "cell_type": "code",
      "source": [
        "w"
      ],
      "metadata": {
        "colab": {
          "base_uri": "https://localhost:8080/"
        },
        "id": "H1AQhvjYbGs6",
        "outputId": "c7c4f4ed-1a84-4e95-f3a8-73a0e8c26841"
      },
      "execution_count": 51,
      "outputs": [
        {
          "output_type": "execute_result",
          "data": {
            "text/plain": [
              "tensor(1., requires_grad=True)"
            ]
          },
          "metadata": {},
          "execution_count": 51
        }
      ]
    },
    {
      "cell_type": "code",
      "source": [
        "b"
      ],
      "metadata": {
        "colab": {
          "base_uri": "https://localhost:8080/"
        },
        "id": "zFJe_lL1cAs2",
        "outputId": "355d520d-60dc-4fc8-9775-c8eff11f212b"
      },
      "execution_count": 52,
      "outputs": [
        {
          "output_type": "execute_result",
          "data": {
            "text/plain": [
              "tensor(0., requires_grad=True)"
            ]
          },
          "metadata": {},
          "execution_count": 52
        }
      ]
    },
    {
      "cell_type": "code",
      "source": [
        "z=w*x +b"
      ],
      "metadata": {
        "id": "ZO7np4T7cBGA"
      },
      "execution_count": 53,
      "outputs": []
    },
    {
      "cell_type": "code",
      "source": [
        "y_pred=torch.sigmoid(z)"
      ],
      "metadata": {
        "id": "aE7DFBHHcFvB"
      },
      "execution_count": 54,
      "outputs": []
    },
    {
      "cell_type": "code",
      "source": [
        "loss=binary_cross_entropy(y_pred,y)"
      ],
      "metadata": {
        "id": "spMiwDPRcNgb"
      },
      "execution_count": 56,
      "outputs": []
    },
    {
      "cell_type": "code",
      "source": [
        "loss.backward()"
      ],
      "metadata": {
        "id": "QbAHudQmcWvr"
      },
      "execution_count": 58,
      "outputs": []
    },
    {
      "cell_type": "code",
      "source": [
        "w.grad # with autograd function"
      ],
      "metadata": {
        "colab": {
          "base_uri": "https://localhost:8080/"
        },
        "id": "ctiL7q3GcdBS",
        "outputId": "d2fa3f5f-3b1e-45f0-c6b0-12c9e8d347ff"
      },
      "execution_count": 59,
      "outputs": [
        {
          "output_type": "execute_result",
          "data": {
            "text/plain": [
              "tensor(6.6918)"
            ]
          },
          "metadata": {},
          "execution_count": 59
        }
      ]
    },
    {
      "cell_type": "code",
      "source": [
        "b.grad"
      ],
      "metadata": {
        "colab": {
          "base_uri": "https://localhost:8080/"
        },
        "id": "FVcZki6idAac",
        "outputId": "e3a1de97-a257-4877-a8c0-b466e7dc0da1"
      },
      "execution_count": 60,
      "outputs": [
        {
          "output_type": "execute_result",
          "data": {
            "text/plain": [
              "tensor(0.9988)"
            ]
          },
          "metadata": {},
          "execution_count": 60
        }
      ]
    },
    {
      "cell_type": "code",
      "source": [],
      "metadata": {
        "id": "p9URspQPdByK"
      },
      "execution_count": null,
      "outputs": []
    }
  ]
}