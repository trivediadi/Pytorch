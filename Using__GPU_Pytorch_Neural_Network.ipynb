{
  "nbformat": 4,
  "nbformat_minor": 0,
  "metadata": {
    "colab": {
      "provenance": [],
      "gpuType": "T4"
    },
    "kernelspec": {
      "name": "python3",
      "display_name": "Python 3"
    },
    "language_info": {
      "name": "python"
    },
    "accelerator": "GPU"
  },
  "cells": [
    {
      "cell_type": "code",
      "execution_count": 2,
      "metadata": {
        "id": "Oe6zhgUA49FK"
      },
      "outputs": [],
      "source": [
        "import torch\n",
        "import pandas as pd\n",
        "import matplotlib.pyplot as plt\n",
        "import torch.nn as nn\n",
        "import torch.optim as optim\n",
        "from torch.utils.data import Dataset,DataLoader\n",
        "from sklearn.model_selection import train_test_split"
      ]
    },
    {
      "cell_type": "code",
      "source": [
        "device=torch.device('cuda' if torch.cuda.is_available() else 'cpu')\n",
        "print(\"using device:\",device )"
      ],
      "metadata": {
        "colab": {
          "base_uri": "https://localhost:8080/"
        },
        "id": "S_R32-NDq5Lm",
        "outputId": "f528e212-a01e-49f2-e6b5-c6e14505f4e3"
      },
      "execution_count": 3,
      "outputs": [
        {
          "output_type": "stream",
          "name": "stdout",
          "text": [
            "using device: cuda\n"
          ]
        }
      ]
    },
    {
      "cell_type": "code",
      "source": [
        "df=pd.read_csv('/content/drive/MyDrive/Fmist/archive/fashion-mnist_train.csv')"
      ],
      "metadata": {
        "id": "M6axoOG_e_Nn"
      },
      "execution_count": 4,
      "outputs": []
    },
    {
      "cell_type": "code",
      "source": [
        "df.head()"
      ],
      "metadata": {
        "colab": {
          "base_uri": "https://localhost:8080/",
          "height": 256
        },
        "id": "crAx-rklfDdQ",
        "outputId": "b30cb530-2682-47e1-cb11-5e1c5962c062"
      },
      "execution_count": 5,
      "outputs": [
        {
          "output_type": "execute_result",
          "data": {
            "text/plain": [
              "   label  pixel1  pixel2  pixel3  pixel4  pixel5  pixel6  pixel7  pixel8  \\\n",
              "0      2       0       0       0       0       0       0       0       0   \n",
              "1      9       0       0       0       0       0       0       0       0   \n",
              "2      6       0       0       0       0       0       0       0       5   \n",
              "3      0       0       0       0       1       2       0       0       0   \n",
              "4      3       0       0       0       0       0       0       0       0   \n",
              "\n",
              "   pixel9  ...  pixel775  pixel776  pixel777  pixel778  pixel779  pixel780  \\\n",
              "0       0  ...         0         0         0         0         0         0   \n",
              "1       0  ...         0         0         0         0         0         0   \n",
              "2       0  ...         0         0         0        30        43         0   \n",
              "3       0  ...         3         0         0         0         0         1   \n",
              "4       0  ...         0         0         0         0         0         0   \n",
              "\n",
              "   pixel781  pixel782  pixel783  pixel784  \n",
              "0         0         0         0         0  \n",
              "1         0         0         0         0  \n",
              "2         0         0         0         0  \n",
              "3         0         0         0         0  \n",
              "4         0         0         0         0  \n",
              "\n",
              "[5 rows x 785 columns]"
            ],
            "text/html": [
              "\n",
              "  <div id=\"df-4fe4b6e3-e089-4e44-b31b-bf330df2ada5\" class=\"colab-df-container\">\n",
              "    <div>\n",
              "<style scoped>\n",
              "    .dataframe tbody tr th:only-of-type {\n",
              "        vertical-align: middle;\n",
              "    }\n",
              "\n",
              "    .dataframe tbody tr th {\n",
              "        vertical-align: top;\n",
              "    }\n",
              "\n",
              "    .dataframe thead th {\n",
              "        text-align: right;\n",
              "    }\n",
              "</style>\n",
              "<table border=\"1\" class=\"dataframe\">\n",
              "  <thead>\n",
              "    <tr style=\"text-align: right;\">\n",
              "      <th></th>\n",
              "      <th>label</th>\n",
              "      <th>pixel1</th>\n",
              "      <th>pixel2</th>\n",
              "      <th>pixel3</th>\n",
              "      <th>pixel4</th>\n",
              "      <th>pixel5</th>\n",
              "      <th>pixel6</th>\n",
              "      <th>pixel7</th>\n",
              "      <th>pixel8</th>\n",
              "      <th>pixel9</th>\n",
              "      <th>...</th>\n",
              "      <th>pixel775</th>\n",
              "      <th>pixel776</th>\n",
              "      <th>pixel777</th>\n",
              "      <th>pixel778</th>\n",
              "      <th>pixel779</th>\n",
              "      <th>pixel780</th>\n",
              "      <th>pixel781</th>\n",
              "      <th>pixel782</th>\n",
              "      <th>pixel783</th>\n",
              "      <th>pixel784</th>\n",
              "    </tr>\n",
              "  </thead>\n",
              "  <tbody>\n",
              "    <tr>\n",
              "      <th>0</th>\n",
              "      <td>2</td>\n",
              "      <td>0</td>\n",
              "      <td>0</td>\n",
              "      <td>0</td>\n",
              "      <td>0</td>\n",
              "      <td>0</td>\n",
              "      <td>0</td>\n",
              "      <td>0</td>\n",
              "      <td>0</td>\n",
              "      <td>0</td>\n",
              "      <td>...</td>\n",
              "      <td>0</td>\n",
              "      <td>0</td>\n",
              "      <td>0</td>\n",
              "      <td>0</td>\n",
              "      <td>0</td>\n",
              "      <td>0</td>\n",
              "      <td>0</td>\n",
              "      <td>0</td>\n",
              "      <td>0</td>\n",
              "      <td>0</td>\n",
              "    </tr>\n",
              "    <tr>\n",
              "      <th>1</th>\n",
              "      <td>9</td>\n",
              "      <td>0</td>\n",
              "      <td>0</td>\n",
              "      <td>0</td>\n",
              "      <td>0</td>\n",
              "      <td>0</td>\n",
              "      <td>0</td>\n",
              "      <td>0</td>\n",
              "      <td>0</td>\n",
              "      <td>0</td>\n",
              "      <td>...</td>\n",
              "      <td>0</td>\n",
              "      <td>0</td>\n",
              "      <td>0</td>\n",
              "      <td>0</td>\n",
              "      <td>0</td>\n",
              "      <td>0</td>\n",
              "      <td>0</td>\n",
              "      <td>0</td>\n",
              "      <td>0</td>\n",
              "      <td>0</td>\n",
              "    </tr>\n",
              "    <tr>\n",
              "      <th>2</th>\n",
              "      <td>6</td>\n",
              "      <td>0</td>\n",
              "      <td>0</td>\n",
              "      <td>0</td>\n",
              "      <td>0</td>\n",
              "      <td>0</td>\n",
              "      <td>0</td>\n",
              "      <td>0</td>\n",
              "      <td>5</td>\n",
              "      <td>0</td>\n",
              "      <td>...</td>\n",
              "      <td>0</td>\n",
              "      <td>0</td>\n",
              "      <td>0</td>\n",
              "      <td>30</td>\n",
              "      <td>43</td>\n",
              "      <td>0</td>\n",
              "      <td>0</td>\n",
              "      <td>0</td>\n",
              "      <td>0</td>\n",
              "      <td>0</td>\n",
              "    </tr>\n",
              "    <tr>\n",
              "      <th>3</th>\n",
              "      <td>0</td>\n",
              "      <td>0</td>\n",
              "      <td>0</td>\n",
              "      <td>0</td>\n",
              "      <td>1</td>\n",
              "      <td>2</td>\n",
              "      <td>0</td>\n",
              "      <td>0</td>\n",
              "      <td>0</td>\n",
              "      <td>0</td>\n",
              "      <td>...</td>\n",
              "      <td>3</td>\n",
              "      <td>0</td>\n",
              "      <td>0</td>\n",
              "      <td>0</td>\n",
              "      <td>0</td>\n",
              "      <td>1</td>\n",
              "      <td>0</td>\n",
              "      <td>0</td>\n",
              "      <td>0</td>\n",
              "      <td>0</td>\n",
              "    </tr>\n",
              "    <tr>\n",
              "      <th>4</th>\n",
              "      <td>3</td>\n",
              "      <td>0</td>\n",
              "      <td>0</td>\n",
              "      <td>0</td>\n",
              "      <td>0</td>\n",
              "      <td>0</td>\n",
              "      <td>0</td>\n",
              "      <td>0</td>\n",
              "      <td>0</td>\n",
              "      <td>0</td>\n",
              "      <td>...</td>\n",
              "      <td>0</td>\n",
              "      <td>0</td>\n",
              "      <td>0</td>\n",
              "      <td>0</td>\n",
              "      <td>0</td>\n",
              "      <td>0</td>\n",
              "      <td>0</td>\n",
              "      <td>0</td>\n",
              "      <td>0</td>\n",
              "      <td>0</td>\n",
              "    </tr>\n",
              "  </tbody>\n",
              "</table>\n",
              "<p>5 rows × 785 columns</p>\n",
              "</div>\n",
              "    <div class=\"colab-df-buttons\">\n",
              "\n",
              "  <div class=\"colab-df-container\">\n",
              "    <button class=\"colab-df-convert\" onclick=\"convertToInteractive('df-4fe4b6e3-e089-4e44-b31b-bf330df2ada5')\"\n",
              "            title=\"Convert this dataframe to an interactive table.\"\n",
              "            style=\"display:none;\">\n",
              "\n",
              "  <svg xmlns=\"http://www.w3.org/2000/svg\" height=\"24px\" viewBox=\"0 -960 960 960\">\n",
              "    <path d=\"M120-120v-720h720v720H120Zm60-500h600v-160H180v160Zm220 220h160v-160H400v160Zm0 220h160v-160H400v160ZM180-400h160v-160H180v160Zm440 0h160v-160H620v160ZM180-180h160v-160H180v160Zm440 0h160v-160H620v160Z\"/>\n",
              "  </svg>\n",
              "    </button>\n",
              "\n",
              "  <style>\n",
              "    .colab-df-container {\n",
              "      display:flex;\n",
              "      gap: 12px;\n",
              "    }\n",
              "\n",
              "    .colab-df-convert {\n",
              "      background-color: #E8F0FE;\n",
              "      border: none;\n",
              "      border-radius: 50%;\n",
              "      cursor: pointer;\n",
              "      display: none;\n",
              "      fill: #1967D2;\n",
              "      height: 32px;\n",
              "      padding: 0 0 0 0;\n",
              "      width: 32px;\n",
              "    }\n",
              "\n",
              "    .colab-df-convert:hover {\n",
              "      background-color: #E2EBFA;\n",
              "      box-shadow: 0px 1px 2px rgba(60, 64, 67, 0.3), 0px 1px 3px 1px rgba(60, 64, 67, 0.15);\n",
              "      fill: #174EA6;\n",
              "    }\n",
              "\n",
              "    .colab-df-buttons div {\n",
              "      margin-bottom: 4px;\n",
              "    }\n",
              "\n",
              "    [theme=dark] .colab-df-convert {\n",
              "      background-color: #3B4455;\n",
              "      fill: #D2E3FC;\n",
              "    }\n",
              "\n",
              "    [theme=dark] .colab-df-convert:hover {\n",
              "      background-color: #434B5C;\n",
              "      box-shadow: 0px 1px 3px 1px rgba(0, 0, 0, 0.15);\n",
              "      filter: drop-shadow(0px 1px 2px rgba(0, 0, 0, 0.3));\n",
              "      fill: #FFFFFF;\n",
              "    }\n",
              "  </style>\n",
              "\n",
              "    <script>\n",
              "      const buttonEl =\n",
              "        document.querySelector('#df-4fe4b6e3-e089-4e44-b31b-bf330df2ada5 button.colab-df-convert');\n",
              "      buttonEl.style.display =\n",
              "        google.colab.kernel.accessAllowed ? 'block' : 'none';\n",
              "\n",
              "      async function convertToInteractive(key) {\n",
              "        const element = document.querySelector('#df-4fe4b6e3-e089-4e44-b31b-bf330df2ada5');\n",
              "        const dataTable =\n",
              "          await google.colab.kernel.invokeFunction('convertToInteractive',\n",
              "                                                    [key], {});\n",
              "        if (!dataTable) return;\n",
              "\n",
              "        const docLinkHtml = 'Like what you see? Visit the ' +\n",
              "          '<a target=\"_blank\" href=https://colab.research.google.com/notebooks/data_table.ipynb>data table notebook</a>'\n",
              "          + ' to learn more about interactive tables.';\n",
              "        element.innerHTML = '';\n",
              "        dataTable['output_type'] = 'display_data';\n",
              "        await google.colab.output.renderOutput(dataTable, element);\n",
              "        const docLink = document.createElement('div');\n",
              "        docLink.innerHTML = docLinkHtml;\n",
              "        element.appendChild(docLink);\n",
              "      }\n",
              "    </script>\n",
              "  </div>\n",
              "\n",
              "\n",
              "    <div id=\"df-6945066c-2102-4c50-b287-bbd1f6b6fb6e\">\n",
              "      <button class=\"colab-df-quickchart\" onclick=\"quickchart('df-6945066c-2102-4c50-b287-bbd1f6b6fb6e')\"\n",
              "                title=\"Suggest charts\"\n",
              "                style=\"display:none;\">\n",
              "\n",
              "<svg xmlns=\"http://www.w3.org/2000/svg\" height=\"24px\"viewBox=\"0 0 24 24\"\n",
              "     width=\"24px\">\n",
              "    <g>\n",
              "        <path d=\"M19 3H5c-1.1 0-2 .9-2 2v14c0 1.1.9 2 2 2h14c1.1 0 2-.9 2-2V5c0-1.1-.9-2-2-2zM9 17H7v-7h2v7zm4 0h-2V7h2v10zm4 0h-2v-4h2v4z\"/>\n",
              "    </g>\n",
              "</svg>\n",
              "      </button>\n",
              "\n",
              "<style>\n",
              "  .colab-df-quickchart {\n",
              "      --bg-color: #E8F0FE;\n",
              "      --fill-color: #1967D2;\n",
              "      --hover-bg-color: #E2EBFA;\n",
              "      --hover-fill-color: #174EA6;\n",
              "      --disabled-fill-color: #AAA;\n",
              "      --disabled-bg-color: #DDD;\n",
              "  }\n",
              "\n",
              "  [theme=dark] .colab-df-quickchart {\n",
              "      --bg-color: #3B4455;\n",
              "      --fill-color: #D2E3FC;\n",
              "      --hover-bg-color: #434B5C;\n",
              "      --hover-fill-color: #FFFFFF;\n",
              "      --disabled-bg-color: #3B4455;\n",
              "      --disabled-fill-color: #666;\n",
              "  }\n",
              "\n",
              "  .colab-df-quickchart {\n",
              "    background-color: var(--bg-color);\n",
              "    border: none;\n",
              "    border-radius: 50%;\n",
              "    cursor: pointer;\n",
              "    display: none;\n",
              "    fill: var(--fill-color);\n",
              "    height: 32px;\n",
              "    padding: 0;\n",
              "    width: 32px;\n",
              "  }\n",
              "\n",
              "  .colab-df-quickchart:hover {\n",
              "    background-color: var(--hover-bg-color);\n",
              "    box-shadow: 0 1px 2px rgba(60, 64, 67, 0.3), 0 1px 3px 1px rgba(60, 64, 67, 0.15);\n",
              "    fill: var(--button-hover-fill-color);\n",
              "  }\n",
              "\n",
              "  .colab-df-quickchart-complete:disabled,\n",
              "  .colab-df-quickchart-complete:disabled:hover {\n",
              "    background-color: var(--disabled-bg-color);\n",
              "    fill: var(--disabled-fill-color);\n",
              "    box-shadow: none;\n",
              "  }\n",
              "\n",
              "  .colab-df-spinner {\n",
              "    border: 2px solid var(--fill-color);\n",
              "    border-color: transparent;\n",
              "    border-bottom-color: var(--fill-color);\n",
              "    animation:\n",
              "      spin 1s steps(1) infinite;\n",
              "  }\n",
              "\n",
              "  @keyframes spin {\n",
              "    0% {\n",
              "      border-color: transparent;\n",
              "      border-bottom-color: var(--fill-color);\n",
              "      border-left-color: var(--fill-color);\n",
              "    }\n",
              "    20% {\n",
              "      border-color: transparent;\n",
              "      border-left-color: var(--fill-color);\n",
              "      border-top-color: var(--fill-color);\n",
              "    }\n",
              "    30% {\n",
              "      border-color: transparent;\n",
              "      border-left-color: var(--fill-color);\n",
              "      border-top-color: var(--fill-color);\n",
              "      border-right-color: var(--fill-color);\n",
              "    }\n",
              "    40% {\n",
              "      border-color: transparent;\n",
              "      border-right-color: var(--fill-color);\n",
              "      border-top-color: var(--fill-color);\n",
              "    }\n",
              "    60% {\n",
              "      border-color: transparent;\n",
              "      border-right-color: var(--fill-color);\n",
              "    }\n",
              "    80% {\n",
              "      border-color: transparent;\n",
              "      border-right-color: var(--fill-color);\n",
              "      border-bottom-color: var(--fill-color);\n",
              "    }\n",
              "    90% {\n",
              "      border-color: transparent;\n",
              "      border-bottom-color: var(--fill-color);\n",
              "    }\n",
              "  }\n",
              "</style>\n",
              "\n",
              "      <script>\n",
              "        async function quickchart(key) {\n",
              "          const quickchartButtonEl =\n",
              "            document.querySelector('#' + key + ' button');\n",
              "          quickchartButtonEl.disabled = true;  // To prevent multiple clicks.\n",
              "          quickchartButtonEl.classList.add('colab-df-spinner');\n",
              "          try {\n",
              "            const charts = await google.colab.kernel.invokeFunction(\n",
              "                'suggestCharts', [key], {});\n",
              "          } catch (error) {\n",
              "            console.error('Error during call to suggestCharts:', error);\n",
              "          }\n",
              "          quickchartButtonEl.classList.remove('colab-df-spinner');\n",
              "          quickchartButtonEl.classList.add('colab-df-quickchart-complete');\n",
              "        }\n",
              "        (() => {\n",
              "          let quickchartButtonEl =\n",
              "            document.querySelector('#df-6945066c-2102-4c50-b287-bbd1f6b6fb6e button');\n",
              "          quickchartButtonEl.style.display =\n",
              "            google.colab.kernel.accessAllowed ? 'block' : 'none';\n",
              "        })();\n",
              "      </script>\n",
              "    </div>\n",
              "\n",
              "    </div>\n",
              "  </div>\n"
            ],
            "application/vnd.google.colaboratory.intrinsic+json": {
              "type": "dataframe",
              "variable_name": "df"
            }
          },
          "metadata": {},
          "execution_count": 5
        }
      ]
    },
    {
      "cell_type": "code",
      "source": [
        "fig,axes=plt.subplots(4,4,figsize=(10,10))\n",
        "fig.suptitle(\"First 16 Images \",fontsize=16)\n",
        "axes=axes.ravel()\n",
        "for i,ax in enumerate(axes.flat):\n",
        "  img=df.iloc[i,1:].values.reshape(28,28)\n",
        "  ax.imshow(img)\n",
        "  ax.axis('off')\n",
        "  ax.set_title(f\"Label{df.iloc[i,0]}\")\n",
        "plt.show()\n"
      ],
      "metadata": {
        "id": "Gm2Bld7VfsPW",
        "colab": {
          "base_uri": "https://localhost:8080/",
          "height": 907
        },
        "outputId": "92f11b66-330a-4186-9feb-541173ad268a"
      },
      "execution_count": 6,
      "outputs": [
        {
          "output_type": "display_data",
          "data": {
            "text/plain": [
              "<Figure size 1000x1000 with 16 Axes>"
            ],
            "image/png": "[encoded data removed]"
          },
          "metadata": {}
        }
      ]
    },
    {
      "cell_type": "code",
      "source": [
        "X=df.iloc[:,1:].values\n",
        "y=df.iloc[:,0].values"
      ],
      "metadata": {
        "id": "U4FN9x7jg9sU"
      },
      "execution_count": 7,
      "outputs": []
    },
    {
      "cell_type": "code",
      "source": [
        "X_train,X_test,y_train,y_test=train_test_split(X,y,test_size=0.2,random_state=42)"
      ],
      "metadata": {
        "id": "NicSfNEvh5kj"
      },
      "execution_count": 8,
      "outputs": []
    },
    {
      "cell_type": "code",
      "source": [
        "X_train=X_train/255.0\n",
        "X_test=X_test/255.0"
      ],
      "metadata": {
        "id": "sXRKdj49h914"
      },
      "execution_count": 9,
      "outputs": []
    },
    {
      "cell_type": "code",
      "source": [
        "# Custom Dataset class\n",
        "class CustomDataset(Dataset):\n",
        "  def __init__(self,X,y):\n",
        "    self.input=torch.tensor(X,dtype=torch.float32)\n",
        "    self.labels=torch.tensor(y,dtype=torch.long)\n",
        "  def __len__(self):\n",
        "    return len(self.input)\n",
        "  def __getitem__(self,idx):\n",
        "    return self.input[idx],self.labels[idx]\n"
      ],
      "metadata": {
        "id": "kKJwhNNQiEN4"
      },
      "execution_count": 10,
      "outputs": []
    },
    {
      "cell_type": "code",
      "source": [
        "train_dataset=CustomDataset(X_train,y_train)\n",
        "test_dataset=CustomDataset(X_test,y_test)"
      ],
      "metadata": {
        "id": "8mA5oQORijdp"
      },
      "execution_count": 26,
      "outputs": []
    },
    {
      "cell_type": "code",
      "source": [
        "# Data Loaders\n",
        "train_loader=DataLoader(train_dataset,batch_size=32,shuffle=True,pin_memory=True)\n",
        "test_loader=DataLoader(test_dataset,batch_size=32,shuffle=False,pin_memory=True)"
      ],
      "metadata": {
        "id": "jL4ahoMYiu6v"
      },
      "execution_count": 27,
      "outputs": []
    },
    {
      "cell_type": "code",
      "source": [
        "# Neural Network\n",
        "class FashionNet(nn.Module):\n",
        "  def __init__(self,inputs):\n",
        "    super(FashionNet,self).__init__()\n",
        "    self.network=nn.Sequential(\n",
        "        nn.Linear(inputs,128),\n",
        "        nn.BatchNorm1d(128),\n",
        "        nn.ReLU(),\n",
        "        nn.Dropout(p=0.3),\n",
        "        nn.Linear(128,64),\n",
        "        nn.BatchNorm1d(64),\n",
        "        nn.ReLU(),\n",
        "        nn.Dropout(p=0.3),\n",
        "        nn.Linear(64,10)\n",
        "    )\n",
        "  def forward(self,input):\n",
        "    x=self.network(input)\n",
        "    return x"
      ],
      "metadata": {
        "id": "Fx8U7dAqixBd"
      },
      "execution_count": 28,
      "outputs": []
    },
    {
      "cell_type": "code",
      "source": [
        "# learning rate and epochs\n",
        "learning_rate=0.001\n",
        "epochs=100"
      ],
      "metadata": {
        "id": "sOFbjzf2jOTz"
      },
      "execution_count": 42,
      "outputs": []
    },
    {
      "cell_type": "code",
      "source": [
        "model=FashionNet(X_train.shape[1])\n",
        "model=model.to(device)\n",
        "loss_function=nn.CrossEntropyLoss()\n",
        "optimizer=optim.Adam(model.parameters(),lr=learning_rate,weight_decay=1e-4)"
      ],
      "metadata": {
        "id": "VnTdNJ1cjcxd"
      },
      "execution_count": 43,
      "outputs": []
    },
    {
      "cell_type": "code",
      "source": [
        "# training loop\n",
        "for epoch in range(epochs):\n",
        "  total_epoch=0\n",
        "  for batch_features,batch_labels in train_loader:\n",
        "    batch_features,batch_labels=batch_features.to(device),batch_labels.to(device)\n",
        "    y_pred=model(batch_features)\n",
        "    loss=loss_function(y_pred,batch_labels)\n",
        "    optimizer.zero_grad()\n",
        "    loss.backward()\n",
        "    optimizer.step()\n",
        "\n",
        "    total_epoch=total_epoch+loss.item()\n",
        "\n",
        "  avg_loss=total_epoch/len(train_loader)\n",
        "  print(f\"Epoch {epoch+1}/{epochs}, Loss: {avg_loss:.4f}\")"
      ],
      "metadata": {
        "colab": {
          "base_uri": "https://localhost:8080/"
        },
        "collapsed": true,
        "id": "t60E85uMkJGQ",
        "outputId": "34570579-7552-4956-db9d-728ac849302f"
      },
      "execution_count": 44,
      "outputs": [
        {
          "output_type": "stream",
          "name": "stdout",
          "text": [
            "Epoch 1/100, Loss: 0.5561\n",
            "Epoch 2/100, Loss: 0.3993\n",
            "Epoch 3/100, Loss: 0.3656\n",
            "Epoch 4/100, Loss: 0.3392\n",
            "Epoch 5/100, Loss: 0.3216\n",
            "Epoch 6/100, Loss: 0.3072\n",
            "Epoch 7/100, Loss: 0.2961\n",
            "Epoch 8/100, Loss: 0.2866\n",
            "Epoch 9/100, Loss: 0.2761\n",
            "Epoch 10/100, Loss: 0.2715\n",
            "Epoch 11/100, Loss: 0.2646\n",
            "Epoch 12/100, Loss: 0.2547\n",
            "Epoch 13/100, Loss: 0.2505\n",
            "Epoch 14/100, Loss: 0.2457\n",
            "Epoch 15/100, Loss: 0.2389\n",
            "Epoch 16/100, Loss: 0.2377\n",
            "Epoch 17/100, Loss: 0.2318\n",
            "Epoch 18/100, Loss: 0.2270\n",
            "Epoch 19/100, Loss: 0.2248\n",
            "Epoch 20/100, Loss: 0.2196\n",
            "Epoch 21/100, Loss: 0.2178\n",
            "Epoch 22/100, Loss: 0.2127\n",
            "Epoch 23/100, Loss: 0.2113\n",
            "Epoch 24/100, Loss: 0.2082\n",
            "Epoch 25/100, Loss: 0.2050\n",
            "Epoch 26/100, Loss: 0.2041\n",
            "Epoch 27/100, Loss: 0.2015\n",
            "Epoch 28/100, Loss: 0.2001\n",
            "Epoch 29/100, Loss: 0.1977\n",
            "Epoch 30/100, Loss: 0.1950\n",
            "Epoch 31/100, Loss: 0.1935\n",
            "Epoch 32/100, Loss: 0.1916\n",
            "Epoch 33/100, Loss: 0.1890\n",
            "Epoch 34/100, Loss: 0.1871\n",
            "Epoch 35/100, Loss: 0.1835\n",
            "Epoch 36/100, Loss: 0.1829\n",
            "Epoch 37/100, Loss: 0.1792\n",
            "Epoch 38/100, Loss: 0.1768\n",
            "Epoch 39/100, Loss: 0.1778\n",
            "Epoch 40/100, Loss: 0.1771\n",
            "Epoch 41/100, Loss: 0.1730\n",
            "Epoch 42/100, Loss: 0.1710\n",
            "Epoch 43/100, Loss: 0.1764\n",
            "Epoch 44/100, Loss: 0.1669\n",
            "Epoch 45/100, Loss: 0.1689\n",
            "Epoch 46/100, Loss: 0.1698\n",
            "Epoch 47/100, Loss: 0.1683\n",
            "Epoch 48/100, Loss: 0.1638\n",
            "Epoch 49/100, Loss: 0.1653\n",
            "Epoch 50/100, Loss: 0.1636\n",
            "Epoch 51/100, Loss: 0.1622\n",
            "Epoch 52/100, Loss: 0.1605\n",
            "Epoch 53/100, Loss: 0.1603\n",
            "Epoch 54/100, Loss: 0.1596\n",
            "Epoch 55/100, Loss: 0.1580\n",
            "Epoch 56/100, Loss: 0.1565\n",
            "Epoch 57/100, Loss: 0.1545\n",
            "Epoch 58/100, Loss: 0.1559\n",
            "Epoch 59/100, Loss: 0.1535\n",
            "Epoch 60/100, Loss: 0.1538\n",
            "Epoch 61/100, Loss: 0.1536\n",
            "Epoch 62/100, Loss: 0.1525\n",
            "Epoch 63/100, Loss: 0.1489\n",
            "Epoch 64/100, Loss: 0.1493\n",
            "Epoch 65/100, Loss: 0.1514\n",
            "Epoch 66/100, Loss: 0.1484\n",
            "Epoch 67/100, Loss: 0.1480\n",
            "Epoch 68/100, Loss: 0.1434\n",
            "Epoch 69/100, Loss: 0.1457\n",
            "Epoch 70/100, Loss: 0.1464\n",
            "Epoch 71/100, Loss: 0.1441\n",
            "Epoch 72/100, Loss: 0.1462\n",
            "Epoch 73/100, Loss: 0.1432\n",
            "Epoch 74/100, Loss: 0.1432\n",
            "Epoch 75/100, Loss: 0.1407\n",
            "Epoch 76/100, Loss: 0.1405\n",
            "Epoch 77/100, Loss: 0.1377\n",
            "Epoch 78/100, Loss: 0.1423\n",
            "Epoch 79/100, Loss: 0.1403\n",
            "Epoch 80/100, Loss: 0.1409\n",
            "Epoch 81/100, Loss: 0.1384\n",
            "Epoch 82/100, Loss: 0.1388\n",
            "Epoch 83/100, Loss: 0.1355\n",
            "Epoch 84/100, Loss: 0.1381\n",
            "Epoch 85/100, Loss: 0.1392\n",
            "Epoch 86/100, Loss: 0.1372\n",
            "Epoch 87/100, Loss: 0.1360\n",
            "Epoch 88/100, Loss: 0.1356\n",
            "Epoch 89/100, Loss: 0.1363\n",
            "Epoch 90/100, Loss: 0.1314\n",
            "Epoch 91/100, Loss: 0.1356\n",
            "Epoch 92/100, Loss: 0.1349\n",
            "Epoch 93/100, Loss: 0.1342\n",
            "Epoch 94/100, Loss: 0.1321\n",
            "Epoch 95/100, Loss: 0.1322\n",
            "Epoch 96/100, Loss: 0.1323\n",
            "Epoch 97/100, Loss: 0.1320\n",
            "Epoch 98/100, Loss: 0.1268\n",
            "Epoch 99/100, Loss: 0.1338\n",
            "Epoch 100/100, Loss: 0.1291\n"
          ]
        }
      ]
    },
    {
      "cell_type": "code",
      "source": [
        "model.eval()"
      ],
      "metadata": {
        "colab": {
          "base_uri": "https://localhost:8080/"
        },
        "id": "KKThYhMkk657",
        "outputId": "55a12b4f-0273-49a5-ff78-56e7d795ce55"
      },
      "execution_count": 45,
      "outputs": [
        {
          "output_type": "execute_result",
          "data": {
            "text/plain": [
              "FashionNet(\n",
              "  (network): Sequential(\n",
              "    (0): Linear(in_features=784, out_features=128, bias=True)\n",
              "    (1): ReLU()\n",
              "    (2): Linear(in_features=128, out_features=64, bias=True)\n",
              "    (3): ReLU()\n",
              "    (4): Linear(in_features=64, out_features=10, bias=True)\n",
              "  )\n",
              ")"
            ]
          },
          "metadata": {},
          "execution_count": 45
        }
      ]
    },
    {
      "cell_type": "code",
      "source": [
        "correct=0\n",
        "total=0\n",
        "for batch_features,batch_labels in test_loader:\n",
        "  with torch.no_grad():\n",
        "    batch_features,batch_labels=batch_features.to(device),batch_labels.to(device)\n",
        "    y_pred=model(batch_features)\n",
        "    _,predicted=torch.max(y_pred,1)\n",
        "    total=total+batch_labels.shape[0]\n",
        "    correct=correct+(predicted==batch_labels).sum().item()\n",
        "accuracy=correct/total\n",
        "print(f\"Accuracy: {accuracy*100:.2f}%\")"
      ],
      "metadata": {
        "colab": {
          "base_uri": "https://localhost:8080/"
        },
        "id": "IH3KcjOglSnl",
        "outputId": "6f86fac1-2c51-4094-9996-44c8d3b84072"
      },
      "execution_count": 46,
      "outputs": [
        {
          "output_type": "stream",
          "name": "stdout",
          "text": [
            "Accuracy: 88.49%\n"
          ]
        }
      ]
    },
    {
      "cell_type": "code",
      "source": [
        "correct=0\n",
        "total=0\n",
        "for batch_features,batch_labels in train_loader:\n",
        "  with torch.no_grad():\n",
        "    batch_features,batch_labels=batch_features.to(device),batch_labels.to(device)\n",
        "    y_pred=model(batch_features)\n",
        "    _,predicted=torch.max(y_pred,1)\n",
        "    total=total+batch_labels.shape[0]\n",
        "    correct=correct+(predicted==batch_labels).sum().item()\n",
        "accuracy=correct/total\n",
        "print(f\"Accuracy: {accuracy*100:.2f}%\")"
      ],
      "metadata": {
        "colab": {
          "base_uri": "https://localhost:8080/"
        },
        "id": "1qwmQu6KmMrB",
        "outputId": "eb5e5d9d-fc4c-4689-a328-13aa16a1090c"
      },
      "execution_count": 47,
      "outputs": [
        {
          "output_type": "stream",
          "name": "stdout",
          "text": [
            "Accuracy: 95.25%\n"
          ]
        }
      ]
    },
    {
      "cell_type": "code",
      "source": [],
      "metadata": {
        "id": "oeWvnQqm0aoW"
      },
      "execution_count": null,
      "outputs": []
    }
  ]
}