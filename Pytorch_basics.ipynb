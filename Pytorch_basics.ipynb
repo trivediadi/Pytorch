{
  "nbformat": 4,
  "nbformat_minor": 0,
  "metadata": {
    "colab": {
      "provenance": [],
      "gpuType": "T4"
    },
    "kernelspec": {
      "name": "python3",
      "display_name": "Python 3"
    },
    "language_info": {
      "name": "python"
    },
    "accelerator": "GPU"
  },
  "cells": [
    {
      "cell_type": "code",
      "execution_count": 2,
      "metadata": {
        "id": "f--YlHKcMU-9"
      },
      "outputs": [],
      "source": [
        "import numpy as np\n",
        "import torch"
      ]
    },
    {
      "cell_type": "markdown",
      "source": [
        "# Create Tensors"
      ],
      "metadata": {
        "id": "RD7AbjcrNL8k"
      }
    },
    {
      "cell_type": "code",
      "source": [
        "#using empty\n",
        "torch.empty(3,3)"
      ],
      "metadata": {
        "colab": {
          "base_uri": "https://localhost:8080/"
        },
        "id": "4mFMI9-INEcT",
        "outputId": "5db48d9e-7bae-4348-83e0-76ab4919b383"
      },
      "execution_count": 5,
      "outputs": [
        {
          "output_type": "execute_result",
          "data": {
            "text/plain": [
              "tensor([[0.0000e+00, 0.0000e+00, 0.0000e+00],\n",
              "        [0.0000e+00, 0.0000e+00, 0.0000e+00],\n",
              "        [0.0000e+00, 0.0000e+00, 1.4013e-45]])"
            ]
          },
          "metadata": {},
          "execution_count": 5
        }
      ]
    },
    {
      "cell_type": "code",
      "source": [
        "#using zeroes\n",
        "torch.zeros(2,3)"
      ],
      "metadata": {
        "colab": {
          "base_uri": "https://localhost:8080/"
        },
        "id": "CBm13vSwNlbx",
        "outputId": "16813f84-c8f5-499e-b5a5-34a7b83b4a42"
      },
      "execution_count": 7,
      "outputs": [
        {
          "output_type": "execute_result",
          "data": {
            "text/plain": [
              "tensor([[0., 0., 0.],\n",
              "        [0., 0., 0.]])"
            ]
          },
          "metadata": {},
          "execution_count": 7
        }
      ]
    },
    {
      "cell_type": "code",
      "source": [
        "#using ones\n",
        "torch.ones(2,3)"
      ],
      "metadata": {
        "colab": {
          "base_uri": "https://localhost:8080/"
        },
        "id": "qM1FXXR2NmBq",
        "outputId": "61a89686-ab47-494c-ed3d-938335ca0ac9"
      },
      "execution_count": 8,
      "outputs": [
        {
          "output_type": "execute_result",
          "data": {
            "text/plain": [
              "tensor([[1., 1., 1.],\n",
              "        [1., 1., 1.]])"
            ]
          },
          "metadata": {},
          "execution_count": 8
        }
      ]
    },
    {
      "cell_type": "code",
      "source": [
        "#using rand\n",
        "torch.rand(2,3)"
      ],
      "metadata": {
        "colab": {
          "base_uri": "https://localhost:8080/"
        },
        "id": "tizfZz-jONOs",
        "outputId": "a7e44827-a8b4-490d-d810-90d6d547675b"
      },
      "execution_count": 9,
      "outputs": [
        {
          "output_type": "execute_result",
          "data": {
            "text/plain": [
              "tensor([[0.9868, 0.7676, 0.6349],\n",
              "        [0.9098, 0.6722, 0.6070]])"
            ]
          },
          "metadata": {},
          "execution_count": 9
        }
      ]
    },
    {
      "cell_type": "code",
      "source": [
        "#use of seed\n",
        "torch.manual_seed(23)"
      ],
      "metadata": {
        "colab": {
          "base_uri": "https://localhost:8080/"
        },
        "id": "OcL3b67bOf-q",
        "outputId": "eec23c22-e2f1-4225-9ead-0133a090caa5"
      },
      "execution_count": 11,
      "outputs": [
        {
          "output_type": "execute_result",
          "data": {
            "text/plain": [
              "<torch._C.Generator at 0x7904173291f0>"
            ]
          },
          "metadata": {},
          "execution_count": 11
        }
      ]
    },
    {
      "cell_type": "code",
      "source": [
        "#using rand after seed always get same values\n",
        "torch.rand(2,3)"
      ],
      "metadata": {
        "colab": {
          "base_uri": "https://localhost:8080/"
        },
        "id": "hD9KQPzMOsK0",
        "outputId": "0c22cfc8-ced0-41f0-b6fa-036086798595"
      },
      "execution_count": 14,
      "outputs": [
        {
          "output_type": "execute_result",
          "data": {
            "text/plain": [
              "tensor([[0.7876, 0.5540, 0.4653],\n",
              "        [0.2311, 0.2214, 0.3348]])"
            ]
          },
          "metadata": {},
          "execution_count": 14
        }
      ]
    },
    {
      "cell_type": "code",
      "source": [
        "#using tensors\n",
        "torch.tensor([[1,2,3],[1,2,2]])"
      ],
      "metadata": {
        "colab": {
          "base_uri": "https://localhost:8080/"
        },
        "id": "plpOXX5JO3qf",
        "outputId": "2d56ffe1-448e-4fb9-ab4e-91df8d43013a"
      },
      "execution_count": 15,
      "outputs": [
        {
          "output_type": "execute_result",
          "data": {
            "text/plain": [
              "tensor([[1, 2, 3],\n",
              "        [1, 2, 2]])"
            ]
          },
          "metadata": {},
          "execution_count": 15
        }
      ]
    },
    {
      "cell_type": "code",
      "source": [
        " #other ways\n",
        " #arange\n",
        "print(\"using arange->\",torch.arange(0,10,2))\n",
        "#using linespace\n",
        "print(\"using linspace->\",torch.linspace(0,10,10))\n",
        "#using eye\n",
        "print(\"using eye->\",torch.eye(4))\n",
        "#using full\n",
        "print(\"using full\",torch.full((3,3),3))"
      ],
      "metadata": {
        "colab": {
          "base_uri": "https://localhost:8080/"
        },
        "id": "K9LRFn1yPHJc",
        "outputId": "47858b6e-7ecc-4075-83bb-5edc4ff46dd4"
      },
      "execution_count": 29,
      "outputs": [
        {
          "output_type": "stream",
          "name": "stdout",
          "text": [
            "using arange-> tensor([0, 2, 4, 6, 8])\n",
            "using linspace-> tensor([ 0.0000,  1.1111,  2.2222,  3.3333,  4.4444,  5.5556,  6.6667,  7.7778,\n",
            "         8.8889, 10.0000])\n",
            "using eye-> tensor([[1., 0., 0., 0.],\n",
            "        [0., 1., 0., 0.],\n",
            "        [0., 0., 1., 0.],\n",
            "        [0., 0., 0., 1.]])\n",
            "using full tensor([[3, 3, 3],\n",
            "        [3, 3, 3],\n",
            "        [3, 3, 3]])\n"
          ]
        }
      ]
    },
    {
      "cell_type": "markdown",
      "source": [
        "# Tensors Shape"
      ],
      "metadata": {
        "id": "wRzaw7VVROdY"
      }
    },
    {
      "cell_type": "code",
      "source": [
        "a=torch.tensor([[1,2,3],[2,3,4]])\n",
        "a"
      ],
      "metadata": {
        "colab": {
          "base_uri": "https://localhost:8080/"
        },
        "id": "o5flHiobPZz1",
        "outputId": "5ac9d97e-377a-4499-db89-824eec83b3d2"
      },
      "execution_count": 37,
      "outputs": [
        {
          "output_type": "execute_result",
          "data": {
            "text/plain": [
              "tensor([[1, 2, 3],\n",
              "        [2, 3, 4]])"
            ]
          },
          "metadata": {},
          "execution_count": 37
        }
      ]
    },
    {
      "cell_type": "code",
      "source": [
        "a.shape"
      ],
      "metadata": {
        "colab": {
          "base_uri": "https://localhost:8080/"
        },
        "id": "9ivGmuUlRbrM",
        "outputId": "17df485e-571d-4efd-b3b7-8681920645c6"
      },
      "execution_count": 38,
      "outputs": [
        {
          "output_type": "execute_result",
          "data": {
            "text/plain": [
              "torch.Size([2, 3])"
            ]
          },
          "metadata": {},
          "execution_count": 38
        }
      ]
    },
    {
      "cell_type": "code",
      "source": [
        "# to create same shape tensor\n",
        "b=torch.empty_like(a)"
      ],
      "metadata": {
        "id": "zIrPIaWqR91K"
      },
      "execution_count": 39,
      "outputs": []
    },
    {
      "cell_type": "code",
      "source": [
        "b"
      ],
      "metadata": {
        "colab": {
          "base_uri": "https://localhost:8080/"
        },
        "id": "SQMe5lJ0SOUH",
        "outputId": "77297e1c-dc26-4d5d-8bd4-d70c793861b5"
      },
      "execution_count": 42,
      "outputs": [
        {
          "output_type": "execute_result",
          "data": {
            "text/plain": [
              "tensor([[     133059136667008,            308994000,  5404631818173500161],\n",
              "        [ 5404631818191673345, -1152557561493261311,  8016108275110059008]])"
            ]
          },
          "metadata": {},
          "execution_count": 42
        }
      ]
    },
    {
      "cell_type": "code",
      "source": [
        "b.shape"
      ],
      "metadata": {
        "colab": {
          "base_uri": "https://localhost:8080/"
        },
        "id": "XtX9bpzYSMBO",
        "outputId": "146152ec-806d-4ad2-dde7-8313863d5800"
      },
      "execution_count": 41,
      "outputs": [
        {
          "output_type": "execute_result",
          "data": {
            "text/plain": [
              "torch.Size([2, 3])"
            ]
          },
          "metadata": {},
          "execution_count": 41
        }
      ]
    },
    {
      "cell_type": "code",
      "source": [
        "# similary to empty_like there is zeros_like\n",
        "c=torch.zeros_like(a)"
      ],
      "metadata": {
        "id": "9ttmYG4hSMdd"
      },
      "execution_count": 43,
      "outputs": []
    },
    {
      "cell_type": "code",
      "source": [
        "c"
      ],
      "metadata": {
        "colab": {
          "base_uri": "https://localhost:8080/"
        },
        "id": "JLftZFqWSZ2Q",
        "outputId": "9f22fcaf-bc51-4d9d-fae2-94fc21e74306"
      },
      "execution_count": 44,
      "outputs": [
        {
          "output_type": "execute_result",
          "data": {
            "text/plain": [
              "tensor([[0, 0, 0],\n",
              "        [0, 0, 0]])"
            ]
          },
          "metadata": {},
          "execution_count": 44
        }
      ]
    },
    {
      "cell_type": "code",
      "source": [
        "#similarly there is ones_like\n",
        "d=torch.ones_like(a)"
      ],
      "metadata": {
        "id": "PNs2j-beSaJT"
      },
      "execution_count": 45,
      "outputs": []
    },
    {
      "cell_type": "code",
      "source": [
        "d"
      ],
      "metadata": {
        "colab": {
          "base_uri": "https://localhost:8080/"
        },
        "id": "zyglUZuGSj55",
        "outputId": "a030ebe8-cd34-4ccd-979c-5099590bfb87"
      },
      "execution_count": 46,
      "outputs": [
        {
          "output_type": "execute_result",
          "data": {
            "text/plain": [
              "tensor([[1, 1, 1],\n",
              "        [1, 1, 1]])"
            ]
          },
          "metadata": {},
          "execution_count": 46
        }
      ]
    },
    {
      "cell_type": "code",
      "source": [
        "#rand_like\n",
        "e=torch.rand_like(a,dtype=torch.float32)\n",
        "e\n"
      ],
      "metadata": {
        "colab": {
          "base_uri": "https://localhost:8080/"
        },
        "id": "iPd7H8zOSkRC",
        "outputId": "fb07d10c-c1a4-4753-97cc-544431a11f13"
      },
      "execution_count": 59,
      "outputs": [
        {
          "output_type": "execute_result",
          "data": {
            "text/plain": [
              "tensor([[0.5466, 0.0213, 0.9049],\n",
              "        [0.8444, 0.9330, 0.2950]])"
            ]
          },
          "metadata": {},
          "execution_count": 59
        }
      ]
    },
    {
      "cell_type": "markdown",
      "source": [
        "# Tensor Datatype"
      ],
      "metadata": {
        "id": "bnSRao-HTEyR"
      }
    },
    {
      "cell_type": "code",
      "source": [
        "#to find datatype\n",
        "a.dtype"
      ],
      "metadata": {
        "colab": {
          "base_uri": "https://localhost:8080/"
        },
        "id": "B5BhbxoaSzt7",
        "outputId": "7e3f6635-5f05-4905-cfb5-cbe610e19c54"
      },
      "execution_count": 52,
      "outputs": [
        {
          "output_type": "execute_result",
          "data": {
            "text/plain": [
              "torch.int64"
            ]
          },
          "metadata": {},
          "execution_count": 52
        }
      ]
    },
    {
      "cell_type": "code",
      "source": [
        "#Assign data type\n",
        "a=torch.tensor([[1,2,3],[2,3,4]],dtype=torch.float32)"
      ],
      "metadata": {
        "id": "0WAERlskTBPD"
      },
      "execution_count": 54,
      "outputs": []
    },
    {
      "cell_type": "code",
      "source": [
        "a"
      ],
      "metadata": {
        "colab": {
          "base_uri": "https://localhost:8080/"
        },
        "id": "I2Hho0NoTu0u",
        "outputId": "807c6395-dbf8-4164-d27b-f8541eb7dbc6"
      },
      "execution_count": 57,
      "outputs": [
        {
          "output_type": "execute_result",
          "data": {
            "text/plain": [
              "tensor([[1., 2., 3.],\n",
              "        [2., 3., 4.]])"
            ]
          },
          "metadata": {},
          "execution_count": 57
        }
      ]
    },
    {
      "cell_type": "code",
      "source": [
        "a.dtype"
      ],
      "metadata": {
        "colab": {
          "base_uri": "https://localhost:8080/"
        },
        "id": "PRmiDa5kTliN",
        "outputId": "bd9f7983-86f9-4910-814d-b22a5eb15470"
      },
      "execution_count": 55,
      "outputs": [
        {
          "output_type": "execute_result",
          "data": {
            "text/plain": [
              "torch.float32"
            ]
          },
          "metadata": {},
          "execution_count": 55
        }
      ]
    },
    {
      "cell_type": "code",
      "source": [
        "# To change datatype of any variable\n",
        "a.to(torch.int32)"
      ],
      "metadata": {
        "colab": {
          "base_uri": "https://localhost:8080/"
        },
        "id": "327DIxoBTsN1",
        "outputId": "1f4f8037-1fa5-4158-ba67-48ebfb566484"
      },
      "execution_count": 61,
      "outputs": [
        {
          "output_type": "execute_result",
          "data": {
            "text/plain": [
              "tensor([[1, 2, 3],\n",
              "        [2, 3, 4]], dtype=torch.int32)"
            ]
          },
          "metadata": {},
          "execution_count": 61
        }
      ]
    },
    {
      "cell_type": "markdown",
      "source": [
        "# Scalar operations"
      ],
      "metadata": {
        "id": "Jaov2ly4VYXZ"
      }
    },
    {
      "cell_type": "code",
      "source": [
        "a=torch.rand(2,3)\n",
        "a"
      ],
      "metadata": {
        "colab": {
          "base_uri": "https://localhost:8080/"
        },
        "id": "ucOA5NUnVTWa",
        "outputId": "365a3ec3-873e-4f1d-a877-a96753f8d4cc"
      },
      "execution_count": 67,
      "outputs": [
        {
          "output_type": "execute_result",
          "data": {
            "text/plain": [
              "tensor([[0.1946, 0.0791, 0.2242],\n",
              "        [0.3113, 0.9287, 0.9269]])"
            ]
          },
          "metadata": {},
          "execution_count": 67
        }
      ]
    },
    {
      "cell_type": "code",
      "source": [
        "#Additions\n",
        "print(a+2)\n",
        "#subtraction\n",
        "print(a-2)\n",
        "#multiplication\n",
        "print(a*2)\n",
        "#division\n",
        "print(a/2)\n",
        "#int division\n",
        "print((a*100)//3)\n",
        "#Mod\n",
        "print(((a*100)//3)%2)\n",
        "#power\n",
        "print(a**2)"
      ],
      "metadata": {
        "colab": {
          "base_uri": "https://localhost:8080/"
        },
        "id": "7dnm_5c4Vfv3",
        "outputId": "445428d9-4b85-4c8a-cdfe-8209cce0a3b7"
      },
      "execution_count": 77,
      "outputs": [
        {
          "output_type": "stream",
          "name": "stdout",
          "text": [
            "tensor([[2.1946, 2.0791, 2.2242],\n",
            "        [2.3113, 2.9287, 2.9269]])\n",
            "tensor([[-1.8054, -1.9209, -1.7758],\n",
            "        [-1.6887, -1.0713, -1.0731]])\n",
            "tensor([[0.3891, 0.1583, 0.4484],\n",
            "        [0.6226, 1.8574, 1.8538]])\n",
            "tensor([[0.0973, 0.0396, 0.1121],\n",
            "        [0.1556, 0.4644, 0.4635]])\n",
            "tensor([[ 6.,  2.,  7.],\n",
            "        [10., 30., 30.]])\n",
            "tensor([[0., 0., 1.],\n",
            "        [0., 0., 0.]])\n",
            "tensor([[0.0379, 0.0063, 0.0503],\n",
            "        [0.0969, 0.8625, 0.8592]])\n"
          ]
        }
      ]
    },
    {
      "cell_type": "markdown",
      "source": [
        "# Element wise operation"
      ],
      "metadata": {
        "id": "O4nEJjLGWo8n"
      }
    },
    {
      "cell_type": "code",
      "source": [
        "a=torch.tensor([[1,2,3],[2,3,4]])\n",
        "b=torch.tensor([[4,5,6],[7,8,9]])"
      ],
      "metadata": {
        "id": "PbHw_z6yVxfX"
      },
      "execution_count": 78,
      "outputs": []
    },
    {
      "cell_type": "code",
      "source": [
        "#Additions\n",
        "print(a+b)\n",
        "#subtraction\n",
        "print(a-b)\n",
        "#multiplication\n",
        "print(a*b)\n",
        "#division\n",
        "print(a/b)"
      ],
      "metadata": {
        "colab": {
          "base_uri": "https://localhost:8080/"
        },
        "id": "s7p9Mm_iW6eF",
        "outputId": "8fc615ef-bf29-49fc-c711-8bd612528d39"
      },
      "execution_count": 79,
      "outputs": [
        {
          "output_type": "stream",
          "name": "stdout",
          "text": [
            "tensor([[ 5,  7,  9],\n",
            "        [ 9, 11, 13]])\n",
            "tensor([[-3, -3, -3],\n",
            "        [-5, -5, -5]])\n",
            "tensor([[ 4, 10, 18],\n",
            "        [14, 24, 36]])\n",
            "tensor([[0.2500, 0.4000, 0.5000],\n",
            "        [0.2857, 0.3750, 0.4444]])\n"
          ]
        }
      ]
    },
    {
      "cell_type": "code",
      "source": [
        "#abs(absolute)\n",
        "a=torch.tensor([-1,2,3,-4])\n",
        "a"
      ],
      "metadata": {
        "colab": {
          "base_uri": "https://localhost:8080/"
        },
        "id": "DJc5LxUDXDzn",
        "outputId": "77f39a36-8b29-4b47-e00c-0c25481c6c2f"
      },
      "execution_count": 82,
      "outputs": [
        {
          "output_type": "execute_result",
          "data": {
            "text/plain": [
              "tensor([-1,  2,  3, -4])"
            ]
          },
          "metadata": {},
          "execution_count": 82
        }
      ]
    },
    {
      "cell_type": "code",
      "source": [
        "torch.abs(a)"
      ],
      "metadata": {
        "colab": {
          "base_uri": "https://localhost:8080/"
        },
        "id": "Lm0SmogpXShh",
        "outputId": "00f27004-988f-4e0b-89eb-8f438142568b"
      },
      "execution_count": 84,
      "outputs": [
        {
          "output_type": "execute_result",
          "data": {
            "text/plain": [
              "tensor([1, 2, 3, 4])"
            ]
          },
          "metadata": {},
          "execution_count": 84
        }
      ]
    },
    {
      "cell_type": "code",
      "source": [
        "#neg (negative)\n",
        "torch.neg(a)"
      ],
      "metadata": {
        "colab": {
          "base_uri": "https://localhost:8080/"
        },
        "id": "RuMCFMEzXZtf",
        "outputId": "110cb282-a4c8-4fa8-8715-b6d1228ef8a5"
      },
      "execution_count": 85,
      "outputs": [
        {
          "output_type": "execute_result",
          "data": {
            "text/plain": [
              "tensor([ 1, -2, -3,  4])"
            ]
          },
          "metadata": {},
          "execution_count": 85
        }
      ]
    },
    {
      "cell_type": "code",
      "source": [
        "# round (round of numbers)\n",
        "b=torch.rand(2,2)\n",
        "b=b*10\n",
        "b"
      ],
      "metadata": {
        "colab": {
          "base_uri": "https://localhost:8080/"
        },
        "id": "Itq8kaEGXjoc",
        "outputId": "5e1509cf-f189-4ecb-de2a-81879b2626b4"
      },
      "execution_count": 88,
      "outputs": [
        {
          "output_type": "execute_result",
          "data": {
            "text/plain": [
              "tensor([[7.7007, 4.3454],\n",
              "        [5.2203, 6.4800]])"
            ]
          },
          "metadata": {},
          "execution_count": 88
        }
      ]
    },
    {
      "cell_type": "code",
      "source": [
        "torch.round(b)"
      ],
      "metadata": {
        "colab": {
          "base_uri": "https://localhost:8080/"
        },
        "id": "VQxKq_ewXyJW",
        "outputId": "21d08c33-14ab-4480-ac0e-47280b826a65"
      },
      "execution_count": 90,
      "outputs": [
        {
          "output_type": "execute_result",
          "data": {
            "text/plain": [
              "tensor([[8., 4.],\n",
              "        [5., 6.]])"
            ]
          },
          "metadata": {},
          "execution_count": 90
        }
      ]
    },
    {
      "cell_type": "code",
      "source": [
        "#ceil\n",
        "torch.ceil(b)"
      ],
      "metadata": {
        "colab": {
          "base_uri": "https://localhost:8080/"
        },
        "id": "Le4FidsyX5BP",
        "outputId": "3e774c36-e234-4f73-8de3-b434f5b75a74"
      },
      "execution_count": 91,
      "outputs": [
        {
          "output_type": "execute_result",
          "data": {
            "text/plain": [
              "tensor([[8., 5.],\n",
              "        [6., 7.]])"
            ]
          },
          "metadata": {},
          "execution_count": 91
        }
      ]
    },
    {
      "cell_type": "code",
      "source": [
        "#floor\n",
        "torch.floor(b)"
      ],
      "metadata": {
        "colab": {
          "base_uri": "https://localhost:8080/"
        },
        "id": "Bv2HkUo2YBVm",
        "outputId": "0f7fccef-f7d3-4316-92ea-dadfcb288f6a"
      },
      "execution_count": 92,
      "outputs": [
        {
          "output_type": "execute_result",
          "data": {
            "text/plain": [
              "tensor([[7., 4.],\n",
              "        [5., 6.]])"
            ]
          },
          "metadata": {},
          "execution_count": 92
        }
      ]
    },
    {
      "cell_type": "code",
      "source": [
        "#clamp\n",
        "torch.clamp(b,min=6,max=8)"
      ],
      "metadata": {
        "colab": {
          "base_uri": "https://localhost:8080/"
        },
        "id": "2pWg8ROnYFRz",
        "outputId": "f6ec99c7-f4cc-4cc1-dcf1-12b9add092f0"
      },
      "execution_count": 93,
      "outputs": [
        {
          "output_type": "execute_result",
          "data": {
            "text/plain": [
              "tensor([[7.7007, 6.0000],\n",
              "        [6.0000, 6.4800]])"
            ]
          },
          "metadata": {},
          "execution_count": 93
        }
      ]
    },
    {
      "cell_type": "markdown",
      "source": [
        "# Reduction operation"
      ],
      "metadata": {
        "id": "4ZfNk7SrYXAD"
      }
    },
    {
      "cell_type": "code",
      "source": [
        "a=torch.randint(size=(2,3),low=0,high=10,dtype=torch.float32)\n",
        "a"
      ],
      "metadata": {
        "colab": {
          "base_uri": "https://localhost:8080/"
        },
        "id": "C8apJbJJYOYL",
        "outputId": "b2ca3cd2-643e-4f4e-9b62-a6403553cc1c"
      },
      "execution_count": 105,
      "outputs": [
        {
          "output_type": "execute_result",
          "data": {
            "text/plain": [
              "tensor([[4., 7., 8.],\n",
              "        [3., 9., 0.]])"
            ]
          },
          "metadata": {},
          "execution_count": 105
        }
      ]
    },
    {
      "cell_type": "code",
      "source": [
        "#sum of whole array\n",
        "print(torch.sum(a))\n",
        "#sum along column\n",
        "print(torch.sum(a,dim=0))\n",
        "#sum along row\n",
        "print(torch.sum(a,dim=1))\n",
        "#mean\n",
        "print(torch.mean(a))\n",
        "#median\n",
        "print(torch.median(a))\n",
        "#max and min\n",
        "print(torch.max(a),\"min \",torch.min(a))\n",
        "#product\n",
        "print(torch.prod(a))\n",
        "#standard deviation\n",
        "print(torch.std(a))\n",
        "#variance\n",
        "print(torch.var(a))\n",
        "#argamx\n",
        "print(torch.argmax(a))\n",
        "#argmin\n",
        "print(torch.argmin(a))\n"
      ],
      "metadata": {
        "colab": {
          "base_uri": "https://localhost:8080/"
        },
        "id": "NTchHZjaYkJN",
        "outputId": "4fc6d772-048e-49fd-e46e-dfcdee9f966a"
      },
      "execution_count": 117,
      "outputs": [
        {
          "output_type": "stream",
          "name": "stdout",
          "text": [
            "tensor(31.)\n",
            "tensor([ 7., 16.,  8.])\n",
            "tensor([19., 12.])\n",
            "tensor(5.1667)\n",
            "tensor(4.)\n",
            "tensor(9.) min  tensor(0.)\n",
            "tensor(0.)\n",
            "tensor(3.4303)\n",
            "tensor(11.7667)\n",
            "tensor(4)\n",
            "tensor(5)\n"
          ]
        }
      ]
    },
    {
      "cell_type": "markdown",
      "source": [
        "# Matrix operations"
      ],
      "metadata": {
        "id": "Jv_OzZ5Wa1Nf"
      }
    },
    {
      "cell_type": "code",
      "source": [
        "a=torch.randint(size=(2,3),low=0,high=10)\n",
        "b=torch.randint(size=(3,2),low=0,high=10)"
      ],
      "metadata": {
        "id": "ghaNYJgGYz6-"
      },
      "execution_count": 146,
      "outputs": []
    },
    {
      "cell_type": "code",
      "source": [
        "print(a,\"\\n\",b)"
      ],
      "metadata": {
        "colab": {
          "base_uri": "https://localhost:8080/"
        },
        "id": "hL5xc0YvbGcG",
        "outputId": "6fedb4d4-86ea-4679-83ad-183434052eda"
      },
      "execution_count": 140,
      "outputs": [
        {
          "output_type": "stream",
          "name": "stdout",
          "text": [
            "tensor([[5, 0, 2],\n",
            "        [0, 0, 0]]) \n",
            " tensor([[4, 9],\n",
            "        [9, 2],\n",
            "        [1, 0]])\n"
          ]
        }
      ]
    },
    {
      "cell_type": "code",
      "source": [
        "#matrix multiplication\n",
        "print(torch.matmul(a,b))"
      ],
      "metadata": {
        "colab": {
          "base_uri": "https://localhost:8080/"
        },
        "id": "HuTiZB0IbW7z",
        "outputId": "ed3dda5d-dce3-4bfb-988e-a2b13298be3e"
      },
      "execution_count": 141,
      "outputs": [
        {
          "output_type": "stream",
          "name": "stdout",
          "text": [
            "tensor([[22, 45],\n",
            "        [ 0,  0]])\n"
          ]
        }
      ]
    },
    {
      "cell_type": "code",
      "source": [
        "#dot product\n",
        "a=torch.tensor([1,2])\n",
        "b=torch.tensor([2,3])\n",
        "print(torch.dot(a,b))"
      ],
      "metadata": {
        "colab": {
          "base_uri": "https://localhost:8080/"
        },
        "id": "6HK9gLqJbonS",
        "outputId": "d9d70359-565c-4d1b-c572-90d5baeb5a68"
      },
      "execution_count": 142,
      "outputs": [
        {
          "output_type": "stream",
          "name": "stdout",
          "text": [
            "tensor(8)\n"
          ]
        }
      ]
    },
    {
      "cell_type": "code",
      "source": [
        "a"
      ],
      "metadata": {
        "colab": {
          "base_uri": "https://localhost:8080/"
        },
        "id": "sE21PtjocuvW",
        "outputId": "67cdb1e8-7e7e-4cfc-a8a4-a593bce2b3bd"
      },
      "execution_count": 147,
      "outputs": [
        {
          "output_type": "execute_result",
          "data": {
            "text/plain": [
              "tensor([[9, 4, 0],\n",
              "        [7, 3, 0]])"
            ]
          },
          "metadata": {},
          "execution_count": 147
        }
      ]
    },
    {
      "cell_type": "code",
      "source": [
        "#transpose\n",
        "print(torch.transpose(a,0,1))"
      ],
      "metadata": {
        "colab": {
          "base_uri": "https://localhost:8080/"
        },
        "id": "YIsrUvxZb82z",
        "outputId": "d2bb8e7c-f826-418d-ceaf-31ae3e7e78d9"
      },
      "execution_count": 149,
      "outputs": [
        {
          "output_type": "stream",
          "name": "stdout",
          "text": [
            "tensor([[9, 7],\n",
            "        [4, 3],\n",
            "        [0, 0]])\n"
          ]
        }
      ]
    },
    {
      "cell_type": "markdown",
      "source": [
        "# Special functions"
      ],
      "metadata": {
        "id": "egl_XrlCdEs1"
      }
    },
    {
      "cell_type": "code",
      "source": [
        "a=torch.tensor([[1,2,3],[4,5,6]])\n"
      ],
      "metadata": {
        "id": "SvggpZzlcb6R"
      },
      "execution_count": 150,
      "outputs": []
    },
    {
      "cell_type": "code",
      "source": [
        "#log\n",
        "torch.log(a)"
      ],
      "metadata": {
        "colab": {
          "base_uri": "https://localhost:8080/"
        },
        "id": "QEo1nIQmhCc3",
        "outputId": "37f227ac-9424-4a20-92d8-b8cb2d4ecc97"
      },
      "execution_count": 151,
      "outputs": [
        {
          "output_type": "execute_result",
          "data": {
            "text/plain": [
              "tensor([[0.0000, 0.6931, 1.0986],\n",
              "        [1.3863, 1.6094, 1.7918]])"
            ]
          },
          "metadata": {},
          "execution_count": 151
        }
      ]
    },
    {
      "cell_type": "code",
      "source": [
        "#exponent\n",
        "torch.exp(a)"
      ],
      "metadata": {
        "colab": {
          "base_uri": "https://localhost:8080/"
        },
        "id": "4aYxef0QhHSB",
        "outputId": "718796b2-1ddb-4d45-d28b-6eeaa3c9d259"
      },
      "execution_count": 152,
      "outputs": [
        {
          "output_type": "execute_result",
          "data": {
            "text/plain": [
              "tensor([[  2.7183,   7.3891,  20.0855],\n",
              "        [ 54.5981, 148.4132, 403.4288]])"
            ]
          },
          "metadata": {},
          "execution_count": 152
        }
      ]
    },
    {
      "cell_type": "code",
      "source": [
        "#square root\n",
        "torch.sqrt(a)"
      ],
      "metadata": {
        "colab": {
          "base_uri": "https://localhost:8080/"
        },
        "id": "mBGJEaFXhYQF",
        "outputId": "4855486b-1436-41fc-ab93-a212f8de23bb"
      },
      "execution_count": 153,
      "outputs": [
        {
          "output_type": "execute_result",
          "data": {
            "text/plain": [
              "tensor([[1.0000, 1.4142, 1.7321],\n",
              "        [2.0000, 2.2361, 2.4495]])"
            ]
          },
          "metadata": {},
          "execution_count": 153
        }
      ]
    },
    {
      "cell_type": "code",
      "source": [
        "#sigmoid\n",
        "torch.sigmoid(a)"
      ],
      "metadata": {
        "colab": {
          "base_uri": "https://localhost:8080/"
        },
        "id": "ZY-DcgpNhdLY",
        "outputId": "9608a853-f221-4c5c-9fc1-7eb7de7e957c"
      },
      "execution_count": 154,
      "outputs": [
        {
          "output_type": "execute_result",
          "data": {
            "text/plain": [
              "tensor([[0.7311, 0.8808, 0.9526],\n",
              "        [0.9820, 0.9933, 0.9975]])"
            ]
          },
          "metadata": {},
          "execution_count": 154
        }
      ]
    },
    {
      "cell_type": "code",
      "source": [
        "#softmax\n",
        "torch.softmax(a,dim=0,dtype=torch.float32)"
      ],
      "metadata": {
        "colab": {
          "base_uri": "https://localhost:8080/"
        },
        "id": "SFhGRj_nhhId",
        "outputId": "ffe6658a-a9d3-4d8f-e046-8778e5ec91a4"
      },
      "execution_count": 157,
      "outputs": [
        {
          "output_type": "execute_result",
          "data": {
            "text/plain": [
              "tensor([[0.0474, 0.0474, 0.0474],\n",
              "        [0.9526, 0.9526, 0.9526]])"
            ]
          },
          "metadata": {},
          "execution_count": 157
        }
      ]
    },
    {
      "cell_type": "code",
      "source": [
        "#relu\n",
        "torch.relu(a)"
      ],
      "metadata": {
        "colab": {
          "base_uri": "https://localhost:8080/"
        },
        "id": "oQKW5ypShkdD",
        "outputId": "e8984458-f10c-4e6e-bff8-4cb9e6f35d5e"
      },
      "execution_count": 12,
      "outputs": [
        {
          "output_type": "execute_result",
          "data": {
            "text/plain": [
              "tensor([[0.3095, 0.1712, 0.6430],\n",
              "        [0.8263, 0.3606, 0.7774]], device='cuda:0')"
            ]
          },
          "metadata": {},
          "execution_count": 12
        }
      ]
    },
    {
      "cell_type": "markdown",
      "source": [
        "# Tensor operation on GPU"
      ],
      "metadata": {
        "id": "tSd9X0b6jsYL"
      }
    },
    {
      "cell_type": "code",
      "source": [
        "torch.cuda.is_available()"
      ],
      "metadata": {
        "colab": {
          "base_uri": "https://localhost:8080/"
        },
        "id": "U8u4cddkj0Ms",
        "outputId": "d9b687ca-0b88-489c-adb2-14bee1dc91b0"
      },
      "execution_count": 3,
      "outputs": [
        {
          "output_type": "execute_result",
          "data": {
            "text/plain": [
              "True"
            ]
          },
          "metadata": {},
          "execution_count": 3
        }
      ]
    },
    {
      "cell_type": "code",
      "source": [
        "dev=torch.device('cuda')"
      ],
      "metadata": {
        "id": "2gQjXaTKjyq6"
      },
      "execution_count": 5,
      "outputs": []
    },
    {
      "cell_type": "code",
      "source": [
        "#creating tensor using gpu\n",
        "a=torch.rand((2,3),device=dev)"
      ],
      "metadata": {
        "id": "oQWW5PFbkZV4"
      },
      "execution_count": 6,
      "outputs": []
    },
    {
      "cell_type": "code",
      "source": [
        "a"
      ],
      "metadata": {
        "colab": {
          "base_uri": "https://localhost:8080/"
        },
        "id": "SZt3-XlrkojP",
        "outputId": "b8c904c6-ff04-404d-bff9-ef89c33711b4"
      },
      "execution_count": 7,
      "outputs": [
        {
          "output_type": "execute_result",
          "data": {
            "text/plain": [
              "tensor([[0.3095, 0.1712, 0.6430],\n",
              "        [0.8263, 0.3606, 0.7774]], device='cuda:0')"
            ]
          },
          "metadata": {},
          "execution_count": 7
        }
      ]
    },
    {
      "cell_type": "code",
      "source": [
        "b=torch.rand(2,3)"
      ],
      "metadata": {
        "id": "uYbFFJ3QkwgH"
      },
      "execution_count": 8,
      "outputs": []
    },
    {
      "cell_type": "code",
      "source": [
        "#moving existing tensors to gpu\n",
        "b=b.to(dev)\n",
        "b"
      ],
      "metadata": {
        "colab": {
          "base_uri": "https://localhost:8080/"
        },
        "id": "mZWQWzMukqbl",
        "outputId": "9d0319e5-fa01-4992-b64d-a9f28cc9cdf2"
      },
      "execution_count": 11,
      "outputs": [
        {
          "output_type": "execute_result",
          "data": {
            "text/plain": [
              "tensor([[0.7050, 0.7208, 0.5556],\n",
              "        [0.5225, 0.9122, 0.8627]], device='cuda:0')"
            ]
          },
          "metadata": {},
          "execution_count": 11
        }
      ]
    },
    {
      "cell_type": "code",
      "source": [],
      "metadata": {
        "id": "K5pT8E03k50D"
      },
      "execution_count": null,
      "outputs": []
    }
  ]
}